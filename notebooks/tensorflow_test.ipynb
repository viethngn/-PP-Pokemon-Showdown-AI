{
 "cells": [
  {
   "cell_type": "code",
   "execution_count": 1,
   "id": "initial_id",
   "metadata": {
    "collapsed": true,
    "ExecuteTime": {
     "end_time": "2023-12-09T17:58:37.713436Z",
     "start_time": "2023-12-09T17:58:34.418453Z"
    }
   },
   "outputs": [
    {
     "name": "stderr",
     "output_type": "stream",
     "text": [
      "/Users/viethnguyen/Documents/pet_projects/Pokemon-Showdown-AI/venv/lib/python3.9/site-packages/urllib3/__init__.py:34: NotOpenSSLWarning: urllib3 v2 only supports OpenSSL 1.1.1+, currently the 'ssl' module is compiled with 'LibreSSL 2.8.3'. See: https://github.com/urllib3/urllib3/issues/3020\n",
      "  warnings.warn(\n"
     ]
    }
   ],
   "source": [
    "# mlp for binary classification\n",
    "from pandas import read_csv\n",
    "from sklearn.model_selection import train_test_split\n",
    "from sklearn.preprocessing import LabelEncoder\n",
    "from tensorflow.keras import Sequential\n",
    "from tensorflow.keras.layers import Dense"
   ]
  },
  {
   "cell_type": "code",
   "execution_count": 2,
   "outputs": [],
   "source": [
    "# load the dataset\n",
    "path = \"/Users/viethnguyen/Documents/pet_projects/Pokemon-Showdown-AI/model_data/game_state/20231209_game_state.csv\"\n",
    "df = read_csv(path)"
   ],
   "metadata": {
    "collapsed": false,
    "ExecuteTime": {
     "end_time": "2023-12-09T17:58:37.938437Z",
     "start_time": "2023-12-09T17:58:37.713739Z"
    }
   },
   "id": "aacfec1341f376bb"
  },
  {
   "cell_type": "code",
   "execution_count": 3,
   "outputs": [
    {
     "name": "stdout",
     "output_type": "stream",
     "text": [
      "<class 'pandas.core.frame.DataFrame'>\n",
      "RangeIndex: 48259 entries, 0 to 48258\n",
      "Data columns (total 215 columns):\n",
      " #    Column                   Dtype\n",
      "---   ------                   -----\n",
      " 0    p1_win                   int64\n",
      " 1    T_ELECTRIC               int64\n",
      " 2    T_GRASSY                 int64\n",
      " 3    T_MISTY                  int64\n",
      " 4    T_PSYCHIC                int64\n",
      " 5    W_SUN                    int64\n",
      " 6    W_RAIN                   int64\n",
      " 7    W_SAND                   int64\n",
      " 8    W_SNOW                   int64\n",
      " 9    W_EX_SUN                 int64\n",
      " 10   W_EX_RAIN                int64\n",
      " 11   W_EX_WIND                int64\n",
      " 12   R_TRICK_ROOM             int64\n",
      " 13   R_WONDER_ROOM            int64\n",
      " 14   R_MAGIC_ROOM             int64\n",
      " 15   p1_reflect               int64\n",
      " 16   p1_light_screen          int64\n",
      " 17   p1_tailwind              int64\n",
      " 18   p1_webbed                int64\n",
      " 19   p1_has_bug               int64\n",
      " 20   p1_has_dark              int64\n",
      " 21   p1_has_dragon            int64\n",
      " 22   p1_has_electric          int64\n",
      " 23   p1_has_fairy             int64\n",
      " 24   p1_has_fighting          int64\n",
      " 25   p1_has_fire              int64\n",
      " 26   p1_has_flying            int64\n",
      " 27   p1_has_ghost             int64\n",
      " 28   p1_has_grass             int64\n",
      " 29   p1_has_ground            int64\n",
      " 30   p1_has_ice               int64\n",
      " 31   p1_has_normal            int64\n",
      " 32   p1_has_poison            int64\n",
      " 33   p1_has_psychic           int64\n",
      " 34   p1_has_rock              int64\n",
      " 35   p1_has_steel             int64\n",
      " 36   p1_has_water             int64\n",
      " 37   p2_reflect               int64\n",
      " 38   p2_light_screen          int64\n",
      " 39   p2_tailwind              int64\n",
      " 40   p2_webbed                int64\n",
      " 41   p2_has_bug               int64\n",
      " 42   p2_has_dark              int64\n",
      " 43   p2_has_dragon            int64\n",
      " 44   p2_has_electric          int64\n",
      " 45   p2_has_fairy             int64\n",
      " 46   p2_has_fighting          int64\n",
      " 47   p2_has_fire              int64\n",
      " 48   p2_has_flying            int64\n",
      " 49   p2_has_ghost             int64\n",
      " 50   p2_has_grass             int64\n",
      " 51   p2_has_ground            int64\n",
      " 52   p2_has_ice               int64\n",
      " 53   p2_has_normal            int64\n",
      " 54   p2_has_poison            int64\n",
      " 55   p2_has_psychic           int64\n",
      " 56   p2_has_rock              int64\n",
      " 57   p2_has_steel             int64\n",
      " 58   p2_has_water             int64\n",
      " 59   p1_pkm1_hp               int64\n",
      " 60   p1_pkm1_BURN             int64\n",
      " 61   p1_pkm1_FREEZE           int64\n",
      " 62   p1_pkm1_PARALYSIS        int64\n",
      " 63   p1_pkm1_POISON           int64\n",
      " 64   p1_pkm1_BADLY_POISON     int64\n",
      " 65   p1_pkm1_SLEEP            int64\n",
      " 66   p1_pkm1_volatile_status  int64\n",
      " 67   p1_pkm1_atk_boost        int64\n",
      " 68   p1_pkm1_def_boost        int64\n",
      " 69   p1_pkm1_spa_boost        int64\n",
      " 70   p1_pkm1_spd_boost        int64\n",
      " 71   p1_pkm1_spe_boost        int64\n",
      " 72   p1_pkm2_hp               int64\n",
      " 73   p1_pkm2_BURN             int64\n",
      " 74   p1_pkm2_FREEZE           int64\n",
      " 75   p1_pkm2_PARALYSIS        int64\n",
      " 76   p1_pkm2_POISON           int64\n",
      " 77   p1_pkm2_BADLY_POISON     int64\n",
      " 78   p1_pkm2_SLEEP            int64\n",
      " 79   p1_pkm2_volatile_status  int64\n",
      " 80   p1_pkm2_atk_boost        int64\n",
      " 81   p1_pkm2_def_boost        int64\n",
      " 82   p1_pkm2_spa_boost        int64\n",
      " 83   p1_pkm2_spd_boost        int64\n",
      " 84   p1_pkm2_spe_boost        int64\n",
      " 85   p1_pkm3_hp               int64\n",
      " 86   p1_pkm3_BURN             int64\n",
      " 87   p1_pkm3_FREEZE           int64\n",
      " 88   p1_pkm3_PARALYSIS        int64\n",
      " 89   p1_pkm3_POISON           int64\n",
      " 90   p1_pkm3_BADLY_POISON     int64\n",
      " 91   p1_pkm3_SLEEP            int64\n",
      " 92   p1_pkm3_volatile_status  int64\n",
      " 93   p1_pkm3_atk_boost        int64\n",
      " 94   p1_pkm3_def_boost        int64\n",
      " 95   p1_pkm3_spa_boost        int64\n",
      " 96   p1_pkm3_spd_boost        int64\n",
      " 97   p1_pkm3_spe_boost        int64\n",
      " 98   p1_pkm4_hp               int64\n",
      " 99   p1_pkm4_BURN             int64\n",
      " 100  p1_pkm4_FREEZE           int64\n",
      " 101  p1_pkm4_PARALYSIS        int64\n",
      " 102  p1_pkm4_POISON           int64\n",
      " 103  p1_pkm4_BADLY_POISON     int64\n",
      " 104  p1_pkm4_SLEEP            int64\n",
      " 105  p1_pkm4_volatile_status  int64\n",
      " 106  p1_pkm4_atk_boost        int64\n",
      " 107  p1_pkm4_def_boost        int64\n",
      " 108  p1_pkm4_spa_boost        int64\n",
      " 109  p1_pkm4_spd_boost        int64\n",
      " 110  p1_pkm4_spe_boost        int64\n",
      " 111  p1_pkm5_hp               int64\n",
      " 112  p1_pkm5_BURN             int64\n",
      " 113  p1_pkm5_FREEZE           int64\n",
      " 114  p1_pkm5_PARALYSIS        int64\n",
      " 115  p1_pkm5_POISON           int64\n",
      " 116  p1_pkm5_BADLY_POISON     int64\n",
      " 117  p1_pkm5_SLEEP            int64\n",
      " 118  p1_pkm5_volatile_status  int64\n",
      " 119  p1_pkm5_atk_boost        int64\n",
      " 120  p1_pkm5_def_boost        int64\n",
      " 121  p1_pkm5_spa_boost        int64\n",
      " 122  p1_pkm5_spd_boost        int64\n",
      " 123  p1_pkm5_spe_boost        int64\n",
      " 124  p1_pkm6_hp               int64\n",
      " 125  p1_pkm6_BURN             int64\n",
      " 126  p1_pkm6_FREEZE           int64\n",
      " 127  p1_pkm6_PARALYSIS        int64\n",
      " 128  p1_pkm6_POISON           int64\n",
      " 129  p1_pkm6_BADLY_POISON     int64\n",
      " 130  p1_pkm6_SLEEP            int64\n",
      " 131  p1_pkm6_volatile_status  int64\n",
      " 132  p1_pkm6_atk_boost        int64\n",
      " 133  p1_pkm6_def_boost        int64\n",
      " 134  p1_pkm6_spa_boost        int64\n",
      " 135  p1_pkm6_spd_boost        int64\n",
      " 136  p1_pkm6_spe_boost        int64\n",
      " 137  p2_pkm1_hp               int64\n",
      " 138  p2_pkm1_BURN             int64\n",
      " 139  p2_pkm1_FREEZE           int64\n",
      " 140  p2_pkm1_PARALYSIS        int64\n",
      " 141  p2_pkm1_POISON           int64\n",
      " 142  p2_pkm1_BADLY_POISON     int64\n",
      " 143  p2_pkm1_SLEEP            int64\n",
      " 144  p2_pkm1_volatile_status  int64\n",
      " 145  p2_pkm1_atk_boost        int64\n",
      " 146  p2_pkm1_def_boost        int64\n",
      " 147  p2_pkm1_spa_boost        int64\n",
      " 148  p2_pkm1_spd_boost        int64\n",
      " 149  p2_pkm1_spe_boost        int64\n",
      " 150  p2_pkm2_hp               int64\n",
      " 151  p2_pkm2_BURN             int64\n",
      " 152  p2_pkm2_FREEZE           int64\n",
      " 153  p2_pkm2_PARALYSIS        int64\n",
      " 154  p2_pkm2_POISON           int64\n",
      " 155  p2_pkm2_BADLY_POISON     int64\n",
      " 156  p2_pkm2_SLEEP            int64\n",
      " 157  p2_pkm2_volatile_status  int64\n",
      " 158  p2_pkm2_atk_boost        int64\n",
      " 159  p2_pkm2_def_boost        int64\n",
      " 160  p2_pkm2_spa_boost        int64\n",
      " 161  p2_pkm2_spd_boost        int64\n",
      " 162  p2_pkm2_spe_boost        int64\n",
      " 163  p2_pkm3_hp               int64\n",
      " 164  p2_pkm3_BURN             int64\n",
      " 165  p2_pkm3_FREEZE           int64\n",
      " 166  p2_pkm3_PARALYSIS        int64\n",
      " 167  p2_pkm3_POISON           int64\n",
      " 168  p2_pkm3_BADLY_POISON     int64\n",
      " 169  p2_pkm3_SLEEP            int64\n",
      " 170  p2_pkm3_volatile_status  int64\n",
      " 171  p2_pkm3_atk_boost        int64\n",
      " 172  p2_pkm3_def_boost        int64\n",
      " 173  p2_pkm3_spa_boost        int64\n",
      " 174  p2_pkm3_spd_boost        int64\n",
      " 175  p2_pkm3_spe_boost        int64\n",
      " 176  p2_pkm4_hp               int64\n",
      " 177  p2_pkm4_BURN             int64\n",
      " 178  p2_pkm4_FREEZE           int64\n",
      " 179  p2_pkm4_PARALYSIS        int64\n",
      " 180  p2_pkm4_POISON           int64\n",
      " 181  p2_pkm4_BADLY_POISON     int64\n",
      " 182  p2_pkm4_SLEEP            int64\n",
      " 183  p2_pkm4_volatile_status  int64\n",
      " 184  p2_pkm4_atk_boost        int64\n",
      " 185  p2_pkm4_def_boost        int64\n",
      " 186  p2_pkm4_spa_boost        int64\n",
      " 187  p2_pkm4_spd_boost        int64\n",
      " 188  p2_pkm4_spe_boost        int64\n",
      " 189  p2_pkm5_hp               int64\n",
      " 190  p2_pkm5_BURN             int64\n",
      " 191  p2_pkm5_FREEZE           int64\n",
      " 192  p2_pkm5_PARALYSIS        int64\n",
      " 193  p2_pkm5_POISON           int64\n",
      " 194  p2_pkm5_BADLY_POISON     int64\n",
      " 195  p2_pkm5_SLEEP            int64\n",
      " 196  p2_pkm5_volatile_status  int64\n",
      " 197  p2_pkm5_atk_boost        int64\n",
      " 198  p2_pkm5_def_boost        int64\n",
      " 199  p2_pkm5_spa_boost        int64\n",
      " 200  p2_pkm5_spd_boost        int64\n",
      " 201  p2_pkm5_spe_boost        int64\n",
      " 202  p2_pkm6_hp               int64\n",
      " 203  p2_pkm6_BURN             int64\n",
      " 204  p2_pkm6_FREEZE           int64\n",
      " 205  p2_pkm6_PARALYSIS        int64\n",
      " 206  p2_pkm6_POISON           int64\n",
      " 207  p2_pkm6_BADLY_POISON     int64\n",
      " 208  p2_pkm6_SLEEP            int64\n",
      " 209  p2_pkm6_volatile_status  int64\n",
      " 210  p2_pkm6_atk_boost        int64\n",
      " 211  p2_pkm6_def_boost        int64\n",
      " 212  p2_pkm6_spa_boost        int64\n",
      " 213  p2_pkm6_spd_boost        int64\n",
      " 214  p2_pkm6_spe_boost        int64\n",
      "dtypes: int64(215)\n",
      "memory usage: 79.2 MB\n"
     ]
    }
   ],
   "source": [
    "df.info(verbose=True)"
   ],
   "metadata": {
    "collapsed": false,
    "ExecuteTime": {
     "end_time": "2023-12-09T17:58:37.951966Z",
     "start_time": "2023-12-09T17:58:37.945329Z"
    }
   },
   "id": "c8ffa97da76b4b89"
  },
  {
   "cell_type": "code",
   "execution_count": 4,
   "outputs": [],
   "source": [
    "features = df.copy()\n",
    "labels = features.pop('p1_win')"
   ],
   "metadata": {
    "collapsed": false,
    "ExecuteTime": {
     "end_time": "2023-12-09T17:58:37.980247Z",
     "start_time": "2023-12-09T17:58:37.948392Z"
    }
   },
   "id": "481585e262c1c58b"
  },
  {
   "cell_type": "code",
   "execution_count": 5,
   "outputs": [],
   "source": [
    "# ensure all data are floating point values\n",
    "features = features.astype('float32')\n",
    "labels = labels.astype('float32')"
   ],
   "metadata": {
    "collapsed": false,
    "ExecuteTime": {
     "end_time": "2023-12-09T17:58:37.987465Z",
     "start_time": "2023-12-09T17:58:37.964395Z"
    }
   },
   "id": "9dc778b5b78ea558"
  },
  {
   "cell_type": "code",
   "execution_count": 6,
   "outputs": [
    {
     "name": "stdout",
     "output_type": "stream",
     "text": [
      "(38607, 214) (9652, 214) (38607,) (9652,)\n"
     ]
    }
   ],
   "source": [
    "# split into train and test datasets\n",
    "X_train, X_test, y_train, y_test = train_test_split(features, labels, test_size=0.2, random_state=12)\n",
    "print(X_train.shape, X_test.shape, y_train.shape, y_test.shape)"
   ],
   "metadata": {
    "collapsed": false,
    "ExecuteTime": {
     "end_time": "2023-12-09T17:58:38.044440Z",
     "start_time": "2023-12-09T17:58:37.983844Z"
    }
   },
   "id": "485a768ad362dff8"
  },
  {
   "cell_type": "code",
   "execution_count": 7,
   "outputs": [],
   "source": [
    "# Reserve 200 samples for validation\n",
    "x_val = X_train[-200:]\n",
    "y_val = y_train[-200:]\n",
    "X_train = X_train[:-200]\n",
    "y_train = y_train[:-200]"
   ],
   "metadata": {
    "collapsed": false,
    "ExecuteTime": {
     "end_time": "2023-12-09T17:58:38.049455Z",
     "start_time": "2023-12-09T17:58:38.042505Z"
    }
   },
   "id": "e79da8b5db8f0f45"
  },
  {
   "cell_type": "code",
   "execution_count": 8,
   "outputs": [],
   "source": [
    "# determine the number of input features\n",
    "n_features = X_train.shape[1]"
   ],
   "metadata": {
    "collapsed": false,
    "ExecuteTime": {
     "end_time": "2023-12-09T17:58:38.049736Z",
     "start_time": "2023-12-09T17:58:38.045681Z"
    }
   },
   "id": "3b234aee7bf8f3eb"
  },
  {
   "cell_type": "code",
   "execution_count": 9,
   "outputs": [
    {
     "data": {
      "text/plain": "89.31860465116279"
     },
     "execution_count": 9,
     "metadata": {},
     "output_type": "execute_result"
    }
   ],
   "source": [
    "# estimate number of neurons in hidden layer\n",
    "n_hidden = X_train.shape[0] / (2 * (X_train.shape[1] + 1))\n",
    "n_hidden"
   ],
   "metadata": {
    "collapsed": false,
    "ExecuteTime": {
     "end_time": "2023-12-09T17:58:38.054694Z",
     "start_time": "2023-12-09T17:58:38.051152Z"
    }
   },
   "id": "3f96ab21bd9b6ed"
  },
  {
   "cell_type": "code",
   "execution_count": 10,
   "outputs": [],
   "source": [
    "# define model\n",
    "model = Sequential()\n",
    "model.add(Dense(90, activation='relu', kernel_initializer='he_normal', input_shape=(n_features,)))\n",
    "model.add(Dense(1, activation='sigmoid'))"
   ],
   "metadata": {
    "collapsed": false,
    "ExecuteTime": {
     "end_time": "2023-12-09T17:58:38.087376Z",
     "start_time": "2023-12-09T17:58:38.054577Z"
    }
   },
   "id": "485b137165c8bac9"
  },
  {
   "cell_type": "code",
   "execution_count": 11,
   "outputs": [],
   "source": [
    "# compile the model\n",
    "model.compile(optimizer='adam', loss='binary_crossentropy', metrics=['accuracy'])"
   ],
   "metadata": {
    "collapsed": false,
    "ExecuteTime": {
     "end_time": "2023-12-09T17:58:38.093576Z",
     "start_time": "2023-12-09T17:58:38.088408Z"
    }
   },
   "id": "631c38e9ef7b3658"
  },
  {
   "cell_type": "code",
   "execution_count": 12,
   "outputs": [],
   "source": [
    "# fit the model\n",
    "history = model.fit(X_train, y_train, epochs=150, batch_size=32, verbose=0, validation_data=(x_val, y_val))"
   ],
   "metadata": {
    "collapsed": false,
    "ExecuteTime": {
     "end_time": "2023-12-09T18:00:18.661876Z",
     "start_time": "2023-12-09T17:58:38.095106Z"
    }
   },
   "id": "364a6ab9ba25ea0c"
  },
  {
   "cell_type": "code",
   "execution_count": 13,
   "outputs": [
    {
     "data": {
      "text/plain": "{'loss': [0.8463659882545471,\n  0.6127411127090454,\n  0.5886706113815308,\n  0.5687779784202576,\n  0.5485730171203613,\n  0.5405794978141785,\n  0.524630069732666,\n  0.5106863379478455,\n  0.5078663229942322,\n  0.49297186732292175,\n  0.4888758659362793,\n  0.47535213828086853,\n  0.46634921431541443,\n  0.45545971393585205,\n  0.4498007595539093,\n  0.4408493638038635,\n  0.43753835558891296,\n  0.4293997287750244,\n  0.4249267578125,\n  0.4192834794521332,\n  0.41227203607559204,\n  0.40476125478744507,\n  0.40280836820602417,\n  0.39868003129959106,\n  0.3926753103733063,\n  0.3875420391559601,\n  0.38346487283706665,\n  0.37855905294418335,\n  0.3729032576084137,\n  0.37224188446998596,\n  0.36988043785095215,\n  0.3630596697330475,\n  0.3598427474498749,\n  0.3546103537082672,\n  0.3499198257923126,\n  0.3518040180206299,\n  0.34636303782463074,\n  0.3441806137561798,\n  0.34118184447288513,\n  0.33607134222984314,\n  0.33587485551834106,\n  0.33217132091522217,\n  0.3294003903865814,\n  0.32796064019203186,\n  0.32355624437332153,\n  0.32300156354904175,\n  0.32082605361938477,\n  0.31872648000717163,\n  0.3174994885921478,\n  0.3150181472301483,\n  0.3119717836380005,\n  0.3110617995262146,\n  0.30892813205718994,\n  0.30582064390182495,\n  0.3062126338481903,\n  0.3055766820907593,\n  0.30066946148872375,\n  0.3009069263935089,\n  0.2979981303215027,\n  0.2952607572078705,\n  0.29521045088768005,\n  0.293003112077713,\n  0.29184630513191223,\n  0.2886353135108948,\n  0.29085054993629456,\n  0.28415313363075256,\n  0.2845783531665802,\n  0.2812628149986267,\n  0.2820870280265808,\n  0.27878397703170776,\n  0.27761849761009216,\n  0.2788693904876709,\n  0.2765418291091919,\n  0.273434042930603,\n  0.2719268798828125,\n  0.2712157666683197,\n  0.272993266582489,\n  0.26832470297813416,\n  0.27136170864105225,\n  0.2674383819103241,\n  0.2670721709728241,\n  0.2636875510215759,\n  0.2647192180156708,\n  0.26300281286239624,\n  0.26113367080688477,\n  0.2599866986274719,\n  0.259778767824173,\n  0.2601451575756073,\n  0.259545236825943,\n  0.25620853900909424,\n  0.2588376998901367,\n  0.2516308128833771,\n  0.25314733386039734,\n  0.2520610988140106,\n  0.25093838572502136,\n  0.25103747844696045,\n  0.24748855829238892,\n  0.2481330931186676,\n  0.24906465411186218,\n  0.24724431335926056,\n  0.2443402260541916,\n  0.24560631811618805,\n  0.24109451472759247,\n  0.2463311403989792,\n  0.23961831629276276,\n  0.24268728494644165,\n  0.24284574389457703,\n  0.23995940387248993,\n  0.23837819695472717,\n  0.23883329331874847,\n  0.23815684020519257,\n  0.2370731234550476,\n  0.23794622719287872,\n  0.23545832931995392,\n  0.23444202542304993,\n  0.23159128427505493,\n  0.23210275173187256,\n  0.23485040664672852,\n  0.2301575243473053,\n  0.23288311064243317,\n  0.23229415714740753,\n  0.2280263900756836,\n  0.22752714157104492,\n  0.22892022132873535,\n  0.2278415858745575,\n  0.2278774380683899,\n  0.2267405390739441,\n  0.22250959277153015,\n  0.22459198534488678,\n  0.2241884171962738,\n  0.22005200386047363,\n  0.22219747304916382,\n  0.21829895675182343,\n  0.2225710153579712,\n  0.2186698019504547,\n  0.2199762761592865,\n  0.220922589302063,\n  0.21567441523075104,\n  0.21870100498199463,\n  0.21728770434856415,\n  0.21576844155788422,\n  0.2164994776248932,\n  0.21541203558444977,\n  0.21782952547073364,\n  0.21279515326023102,\n  0.2180580198764801,\n  0.21297942101955414,\n  0.2113325446844101,\n  0.21355128288269043,\n  0.21458134055137634],\n 'accuracy': [0.6402218341827393,\n  0.679068922996521,\n  0.690342903137207,\n  0.7007055878639221,\n  0.7097924947738647,\n  0.7146874070167542,\n  0.7207279801368713,\n  0.7279922962188721,\n  0.7282006144523621,\n  0.7382508516311646,\n  0.740646243095398,\n  0.7477543354034424,\n  0.7533001899719238,\n  0.7572578191757202,\n  0.7623870372772217,\n  0.7665269374847412,\n  0.767255961894989,\n  0.7714218497276306,\n  0.7740776538848877,\n  0.7770197987556458,\n  0.780795156955719,\n  0.7862368822097778,\n  0.7855339050292969,\n  0.7880334258079529,\n  0.7926679849624634,\n  0.7939958572387695,\n  0.7971463799476624,\n  0.7999323010444641,\n  0.8044366836547852,\n  0.8027963638305664,\n  0.8047230839729309,\n  0.8090972900390625,\n  0.808316171169281,\n  0.8125602006912231,\n  0.8138360381126404,\n  0.8151899576187134,\n  0.8194339871406555,\n  0.8179758787155151,\n  0.8176894783973694,\n  0.8213086128234863,\n  0.8219074606895447,\n  0.8258390426635742,\n  0.8271148204803467,\n  0.8253182768821716,\n  0.8276616334915161,\n  0.8296664953231812,\n  0.8300830721855164,\n  0.832634687423706,\n  0.8307339549064636,\n  0.8359674215316772,\n  0.8362017273902893,\n  0.8364620804786682,\n  0.8394303321838379,\n  0.8405759334564209,\n  0.8394303321838379,\n  0.8391699194908142,\n  0.8409925103187561,\n  0.8408623337745667,\n  0.8423464298248291,\n  0.8438826203346252,\n  0.8439086675643921,\n  0.8460437059402466,\n  0.8465904593467712,\n  0.8485953211784363,\n  0.8461999297142029,\n  0.8495586514472961,\n  0.8477360606193542,\n  0.8545317053794861,\n  0.8527612090110779,\n  0.8516156077384949,\n  0.8533340096473694,\n  0.8532298803329468,\n  0.8540630340576172,\n  0.8570312857627869,\n  0.855443000793457,\n  0.857708215713501,\n  0.8552867770195007,\n  0.8584372401237488,\n  0.8552347421646118,\n  0.8576561808586121,\n  0.8593485355377197,\n  0.8616658449172974,\n  0.8600255250930786,\n  0.8597651720046997,\n  0.8625250458717346,\n  0.8622386455535889,\n  0.86197829246521,\n  0.8620563745498657,\n  0.8627594113349915,\n  0.863774836063385,\n  0.86197829246521,\n  0.8686437606811523,\n  0.8678886890411377,\n  0.8677845001220703,\n  0.8675762414932251,\n  0.867836594581604,\n  0.8693727850914001,\n  0.8696852326393127,\n  0.8690863847732544,\n  0.8696591854095459,\n  0.8705183863639832,\n  0.8724191188812256,\n  0.875257134437561,\n  0.8715078234672546,\n  0.8746322393417358,\n  0.8720024824142456,\n  0.8731481432914734,\n  0.8745020627975464,\n  0.8753873109817505,\n  0.8746322393417358,\n  0.8761423826217651,\n  0.8755174875259399,\n  0.8750748634338379,\n  0.8754914402961731,\n  0.8767151832580566,\n  0.8801259994506836,\n  0.8780430555343628,\n  0.8789803981781006,\n  0.8792147040367126,\n  0.877522349357605,\n  0.8779128789901733,\n  0.8804905414581299,\n  0.8811154365539551,\n  0.8784075975418091,\n  0.8808290362358093,\n  0.8804384469985962,\n  0.8797615170478821,\n  0.8818444609642029,\n  0.8836930990219116,\n  0.8832764625549316,\n  0.8846564292907715,\n  0.8817663192749023,\n  0.8858541250228882,\n  0.8831202387809753,\n  0.8848907947540283,\n  0.8859062194824219,\n  0.8839013576507568,\n  0.8865311145782471,\n  0.8855156898498535,\n  0.8858280777931213,\n  0.8869476914405823,\n  0.8854635953903198,\n  0.8860363960266113,\n  0.8866873383522034,\n  0.8878850340843201,\n  0.8854896426200867,\n  0.888588011264801,\n  0.8893691301345825,\n  0.8870778679847717,\n  0.8856198191642761],\n 'val_loss': [0.6327303051948547,\n  0.6155349016189575,\n  0.5201367139816284,\n  0.8535715341567993,\n  0.5517441034317017,\n  0.5279097557067871,\n  0.6239526867866516,\n  0.7512146234512329,\n  0.4704318344593048,\n  0.47525691986083984,\n  0.47496697306632996,\n  0.49307310581207275,\n  0.46000003814697266,\n  0.4800274968147278,\n  0.4846801459789276,\n  0.4943591356277466,\n  0.4785815477371216,\n  0.5101773142814636,\n  0.49845993518829346,\n  0.5114014148712158,\n  0.4567733108997345,\n  0.45065662264823914,\n  0.49250900745391846,\n  0.45223450660705566,\n  0.4746704399585724,\n  0.49204400181770325,\n  0.47565653920173645,\n  0.47469332814216614,\n  0.45744484663009644,\n  0.47931358218193054,\n  0.4669109284877777,\n  0.4553930163383484,\n  0.45784831047058105,\n  0.435230016708374,\n  0.4770781695842743,\n  0.43505287170410156,\n  0.43738409876823425,\n  0.41758784651756287,\n  0.4221835732460022,\n  0.4475564956665039,\n  0.4772103428840637,\n  0.3935437500476837,\n  0.39524978399276733,\n  0.4440194368362427,\n  0.42714160680770874,\n  0.432403028011322,\n  0.4210300147533417,\n  0.4921659827232361,\n  0.439107745885849,\n  0.43768537044525146,\n  0.39391466975212097,\n  0.425479531288147,\n  0.43758925795555115,\n  0.41831550002098083,\n  0.4442565143108368,\n  0.38776639103889465,\n  0.39171233773231506,\n  0.4162827730178833,\n  0.43255147337913513,\n  0.43144211173057556,\n  0.38829681277275085,\n  0.4449058473110199,\n  0.41077929735183716,\n  0.42580467462539673,\n  0.3744945526123047,\n  0.45673930644989014,\n  0.4006907343864441,\n  0.42766204476356506,\n  0.4571269154548645,\n  0.37988319993019104,\n  0.3736569881439209,\n  0.3932424485683441,\n  0.4104152321815491,\n  0.41077637672424316,\n  0.45324793457984924,\n  0.4126547873020172,\n  0.3832404613494873,\n  0.45597147941589355,\n  0.43101009726524353,\n  0.38899481296539307,\n  0.41503772139549255,\n  0.43975698947906494,\n  0.37290364503860474,\n  0.36939266324043274,\n  0.39618822932243347,\n  0.39437100291252136,\n  0.4148111045360565,\n  0.4153485596179962,\n  0.41059771180152893,\n  0.43269333243370056,\n  0.41842496395111084,\n  0.35445114970207214,\n  0.4049561023712158,\n  0.46462491154670715,\n  0.36545440554618835,\n  0.3868264853954315,\n  0.39374297857284546,\n  0.4421449303627014,\n  0.4079973101615906,\n  0.38496944308280945,\n  0.45424121618270874,\n  0.40679532289505005,\n  0.4505826234817505,\n  0.4015117883682251,\n  0.4814126193523407,\n  0.37164032459259033,\n  0.4508466422557831,\n  0.4315248727798462,\n  0.4135647118091583,\n  0.4342342019081116,\n  0.38212084770202637,\n  0.40155911445617676,\n  0.45552393794059753,\n  0.4557285010814667,\n  0.48791390657424927,\n  0.41869667172431946,\n  0.3949631452560425,\n  0.39828813076019287,\n  0.44785794615745544,\n  0.3886612057685852,\n  0.4643135964870453,\n  0.4444110095500946,\n  0.4157671332359314,\n  0.4536130428314209,\n  0.4447787404060364,\n  0.4504553973674774,\n  0.388111412525177,\n  0.41302186250686646,\n  0.42940762639045715,\n  0.4026798903942108,\n  0.3677560091018677,\n  0.4164213538169861,\n  0.42634254693984985,\n  0.42284443974494934,\n  0.37410682439804077,\n  0.3955647945404053,\n  0.43705853819847107,\n  0.4734238088130951,\n  0.4744870364665985,\n  0.42713701725006104,\n  0.43684929609298706,\n  0.39253079891204834,\n  0.3703072667121887,\n  0.48916760087013245,\n  0.32595473527908325,\n  0.371756374835968,\n  0.40512025356292725,\n  0.43399813771247864,\n  0.5609521269798279,\n  0.5219874382019043],\n 'val_accuracy': [0.6700000166893005,\n  0.6600000262260437,\n  0.7200000286102295,\n  0.6449999809265137,\n  0.6650000214576721,\n  0.7350000143051147,\n  0.6800000071525574,\n  0.6499999761581421,\n  0.75,\n  0.7749999761581421,\n  0.7950000166893005,\n  0.7599999904632568,\n  0.7649999856948853,\n  0.7549999952316284,\n  0.7049999833106995,\n  0.7400000095367432,\n  0.7649999856948853,\n  0.699999988079071,\n  0.7599999904632568,\n  0.7200000286102295,\n  0.7850000262260437,\n  0.7900000214576721,\n  0.75,\n  0.7649999856948853,\n  0.7099999785423279,\n  0.7549999952316284,\n  0.7599999904632568,\n  0.7799999713897705,\n  0.7850000262260437,\n  0.75,\n  0.7549999952316284,\n  0.7900000214576721,\n  0.7749999761581421,\n  0.8149999976158142,\n  0.7850000262260437,\n  0.8149999976158142,\n  0.800000011920929,\n  0.824999988079071,\n  0.7649999856948853,\n  0.7900000214576721,\n  0.7749999761581421,\n  0.8050000071525574,\n  0.8299999833106995,\n  0.7799999713897705,\n  0.8100000023841858,\n  0.8050000071525574,\n  0.7850000262260437,\n  0.7350000143051147,\n  0.7950000166893005,\n  0.8299999833106995,\n  0.8349999785423279,\n  0.8149999976158142,\n  0.8050000071525574,\n  0.7900000214576721,\n  0.7950000166893005,\n  0.8299999833106995,\n  0.8050000071525574,\n  0.800000011920929,\n  0.7950000166893005,\n  0.800000011920929,\n  0.8349999785423279,\n  0.7649999856948853,\n  0.800000011920929,\n  0.7950000166893005,\n  0.8149999976158142,\n  0.7900000214576721,\n  0.8149999976158142,\n  0.8299999833106995,\n  0.800000011920929,\n  0.8050000071525574,\n  0.800000011920929,\n  0.8199999928474426,\n  0.8050000071525574,\n  0.8149999976158142,\n  0.8100000023841858,\n  0.7950000166893005,\n  0.8349999785423279,\n  0.8199999928474426,\n  0.8100000023841858,\n  0.8149999976158142,\n  0.8299999833106995,\n  0.800000011920929,\n  0.8399999737739563,\n  0.8199999928474426,\n  0.8149999976158142,\n  0.800000011920929,\n  0.8149999976158142,\n  0.8299999833106995,\n  0.7950000166893005,\n  0.8050000071525574,\n  0.8199999928474426,\n  0.8199999928474426,\n  0.8349999785423279,\n  0.7799999713897705,\n  0.8199999928474426,\n  0.8050000071525574,\n  0.8349999785423279,\n  0.8100000023841858,\n  0.824999988079071,\n  0.8299999833106995,\n  0.800000011920929,\n  0.800000011920929,\n  0.7850000262260437,\n  0.824999988079071,\n  0.8050000071525574,\n  0.8199999928474426,\n  0.8299999833106995,\n  0.8100000023841858,\n  0.8349999785423279,\n  0.8050000071525574,\n  0.8100000023841858,\n  0.8399999737739563,\n  0.8100000023841858,\n  0.800000011920929,\n  0.800000011920929,\n  0.8149999976158142,\n  0.8149999976158142,\n  0.8100000023841858,\n  0.8149999976158142,\n  0.8149999976158142,\n  0.7900000214576721,\n  0.8149999976158142,\n  0.8199999928474426,\n  0.8050000071525574,\n  0.8050000071525574,\n  0.7950000166893005,\n  0.824999988079071,\n  0.8050000071525574,\n  0.7799999713897705,\n  0.7950000166893005,\n  0.8199999928474426,\n  0.8199999928474426,\n  0.8100000023841858,\n  0.8100000023841858,\n  0.8050000071525574,\n  0.8500000238418579,\n  0.8149999976158142,\n  0.8299999833106995,\n  0.8299999833106995,\n  0.824999988079071,\n  0.8299999833106995,\n  0.824999988079071,\n  0.8299999833106995,\n  0.8399999737739563,\n  0.8450000286102295,\n  0.8299999833106995,\n  0.8349999785423279,\n  0.8399999737739563,\n  0.8149999976158142,\n  0.824999988079071]}"
     },
     "execution_count": 13,
     "metadata": {},
     "output_type": "execute_result"
    }
   ],
   "source": [
    "# record of the loss values and metric values during training\n",
    "history.history"
   ],
   "metadata": {
    "collapsed": false,
    "ExecuteTime": {
     "end_time": "2023-12-09T18:00:18.669311Z",
     "start_time": "2023-12-09T18:00:18.664774Z"
    }
   },
   "id": "8b6d87abac97ea6d"
  },
  {
   "cell_type": "code",
   "execution_count": 14,
   "outputs": [
    {
     "name": "stdout",
     "output_type": "stream",
     "text": [
      "Test Accuracy: 0.833\n"
     ]
    }
   ],
   "source": [
    "# evaluate the model\n",
    "loss, acc = model.evaluate(X_test, y_test, verbose=0)\n",
    "print('Test Accuracy: %.3f' % acc)"
   ],
   "metadata": {
    "collapsed": false,
    "ExecuteTime": {
     "end_time": "2023-12-09T18:00:18.893518Z",
     "start_time": "2023-12-09T18:00:18.670570Z"
    }
   },
   "id": "1a424bf84129499c"
  },
  {
   "cell_type": "code",
   "execution_count": 15,
   "outputs": [
    {
     "name": "stdout",
     "output_type": "stream",
     "text": [
      "1/1 [==============================] - 0s 39ms/step\n",
      "Predicted: 0.110\n"
     ]
    },
    {
     "name": "stderr",
     "output_type": "stream",
     "text": [
      "/var/folders/jm/xcfp5lx50jl_w8_pt29cpkqh0000gn/T/ipykernel_82990/1177157463.py:4: DeprecationWarning: Conversion of an array with ndim > 0 to a scalar is deprecated, and will error in future. Ensure you extract a single element from your array before performing this operation. (Deprecated NumPy 1.25.)\n",
      "  print('Predicted: %.3f' % yhat)\n"
     ]
    }
   ],
   "source": [
    "# make a prediction\n",
    "row = [0,0,0,0,0,0,0,0,0,0,0,0,0,0,0,0,0,0,0,0,0,0,1,0,0,0,0,1,0,1,1,0,0,0,0,0,0,0,0,0,0,1,0,0,1,0,0,0,0,1,0,0,1,0,1,0,0,0,43,0,0,0,0,0,0,0,0,0,-1,0,0,100,0,0,0,0,0,0,0,0,0,0,0,0,100,0,0,0,0,0,0,0,0,0,0,0,0,100,0,0,0,0,0,0,0,0,0,0,0,0,100,0,0,0,0,0,0,0,0,0,0,0,0,100,0,0,0,0,0,0,0,0,0,0,0,0,84,0,0,0,0,0,0,0,0,0,0,0,0,91,0,0,0,0,0,0,0,1,1,0,0,0,100,0,0,0,0,0,0,0,0,0,0,0,0,100,0,0,0,0,0,0,0,0,0,0,0,0,100,0,0,0,0,0,0,0,0,0,0,0,0,100,0,0,0,0,0,0,0,0,0,0,0,0]\n",
    "yhat = model.predict([row])\n",
    "print('Predicted: %.3f' % yhat)"
   ],
   "metadata": {
    "collapsed": false,
    "ExecuteTime": {
     "end_time": "2023-12-09T18:00:18.955243Z",
     "start_time": "2023-12-09T18:00:18.894047Z"
    }
   },
   "id": "a378425780f94f5d"
  },
  {
   "cell_type": "code",
   "execution_count": 26,
   "outputs": [
    {
     "name": "stdout",
     "output_type": "stream",
     "text": [
      "Evaluate on test data\n",
      "302/302 [==============================] - 0s 439us/step - loss: 0.4066 - accuracy: 0.8331\n",
      "test loss, test acc: [0.4066351354122162, 0.8330916166305542]\n",
      "Generate predictions for 3 samples\n",
      "1/1 [==============================] - 0s 8ms/step\n",
      "predictions shape: (3, 1)\n"
     ]
    },
    {
     "data": {
      "text/plain": "array([[0.093],\n       [0.918],\n       [0.   ]], dtype=float32)"
     },
     "execution_count": 26,
     "metadata": {},
     "output_type": "execute_result"
    }
   ],
   "source": [
    "# Evaluate the model on the test data using `evaluate`\n",
    "print(\"Evaluate on test data\")\n",
    "results = model.evaluate(X_test, y_test, batch_size=32)\n",
    "print(\"test loss, test acc:\", results)\n",
    "\n",
    "# Generate predictions (probabilities -- the output of the last layer)\n",
    "# on new data using `predict`\n",
    "print(\"Generate predictions for 3 samples\")\n",
    "predictions = model.predict(X_test[:3])\n",
    "print(\"predictions shape:\", predictions.shape)\n",
    "predictions.round(decimals=3)"
   ],
   "metadata": {
    "collapsed": false,
    "ExecuteTime": {
     "end_time": "2023-12-09T18:08:40.219324Z",
     "start_time": "2023-12-09T18:08:40.019105Z"
    }
   },
   "id": "a7e5c7f7ac04f68f"
  },
  {
   "cell_type": "code",
   "execution_count": null,
   "outputs": [],
   "source": [],
   "metadata": {
    "collapsed": false
   },
   "id": "7a7c2ab8b951189c"
  }
 ],
 "metadata": {
  "kernelspec": {
   "display_name": "Python 3",
   "language": "python",
   "name": "python3"
  },
  "language_info": {
   "codemirror_mode": {
    "name": "ipython",
    "version": 2
   },
   "file_extension": ".py",
   "mimetype": "text/x-python",
   "name": "python",
   "nbconvert_exporter": "python",
   "pygments_lexer": "ipython2",
   "version": "2.7.6"
  }
 },
 "nbformat": 4,
 "nbformat_minor": 5
}
