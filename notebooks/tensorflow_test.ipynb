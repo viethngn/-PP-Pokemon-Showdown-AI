{
 "cells": [
  {
   "cell_type": "code",
   "execution_count": 1,
   "id": "initial_id",
   "metadata": {
    "collapsed": true,
    "ExecuteTime": {
     "end_time": "2023-12-15T22:05:09.332392Z",
     "start_time": "2023-12-15T22:05:04.116870Z"
    }
   },
   "outputs": [],
   "source": [
    "# mlp for binary classification\n",
    "from pandas import read_csv\n",
    "from sklearn.model_selection import train_test_split\n",
    "from sklearn.preprocessing import LabelEncoder\n",
    "from tensorflow.keras import Sequential\n",
    "from tensorflow.keras.layers import Dense\n",
    "import math"
   ]
  },
  {
   "cell_type": "code",
   "execution_count": 2,
   "outputs": [],
   "source": [
    "# load the dataset\n",
    "path = \"/Users/viethnguyen/Documents/pet_projects/Pokemon-Showdown-AI/model_data/game_state/20231209_game_state.csv\"\n",
    "df = read_csv(path)"
   ],
   "metadata": {
    "collapsed": false,
    "ExecuteTime": {
     "end_time": "2023-12-15T22:05:11.049529Z",
     "start_time": "2023-12-15T22:05:10.818863Z"
    }
   },
   "id": "aacfec1341f376bb"
  },
  {
   "cell_type": "code",
   "execution_count": 3,
   "outputs": [],
   "source": [
    "features = df.copy()\n",
    "labels = features.pop('p1_win')"
   ],
   "metadata": {
    "collapsed": false,
    "ExecuteTime": {
     "end_time": "2023-12-15T22:05:11.502503Z",
     "start_time": "2023-12-15T22:05:11.489078Z"
    }
   },
   "id": "481585e262c1c58b"
  },
  {
   "cell_type": "code",
   "execution_count": 4,
   "outputs": [],
   "source": [
    "# ensure all data are floating point values\n",
    "features = features.astype('float32')\n",
    "labels = labels.astype('float32')"
   ],
   "metadata": {
    "collapsed": false,
    "ExecuteTime": {
     "end_time": "2023-12-15T22:05:12.307823Z",
     "start_time": "2023-12-15T22:05:12.283535Z"
    }
   },
   "id": "9dc778b5b78ea558"
  },
  {
   "cell_type": "code",
   "execution_count": 5,
   "outputs": [
    {
     "name": "stdout",
     "output_type": "stream",
     "text": [
      "(38607, 214) (9652, 214) (38607,) (9652,)\n"
     ]
    }
   ],
   "source": [
    "# split into train and test datasets\n",
    "X_train, X_test, y_train, y_test = train_test_split(features, labels, test_size=0.2, random_state=12)\n",
    "print(X_train.shape, X_test.shape, y_train.shape, y_test.shape)"
   ],
   "metadata": {
    "collapsed": false,
    "ExecuteTime": {
     "end_time": "2023-12-15T22:05:19.805672Z",
     "start_time": "2023-12-15T22:05:19.736909Z"
    }
   },
   "id": "485a768ad362dff8"
  },
  {
   "cell_type": "code",
   "execution_count": 6,
   "outputs": [],
   "source": [
    "# Reserve 200 samples for validation\n",
    "x_val = X_train[-200:]\n",
    "y_val = y_train[-200:]\n",
    "X_train = X_train[:-200]\n",
    "y_train = y_train[:-200]"
   ],
   "metadata": {
    "collapsed": false,
    "ExecuteTime": {
     "end_time": "2023-12-15T22:05:21.569021Z",
     "start_time": "2023-12-15T22:05:21.564895Z"
    }
   },
   "id": "e79da8b5db8f0f45"
  },
  {
   "cell_type": "code",
   "execution_count": 7,
   "outputs": [],
   "source": [
    "# determine the number of input features\n",
    "n_features = X_train.shape[1]"
   ],
   "metadata": {
    "collapsed": false,
    "ExecuteTime": {
     "end_time": "2023-12-15T22:05:22.623976Z",
     "start_time": "2023-12-15T22:05:22.618133Z"
    }
   },
   "id": "3b234aee7bf8f3eb"
  },
  {
   "cell_type": "code",
   "execution_count": 8,
   "outputs": [
    {
     "data": {
      "text/plain": "90"
     },
     "execution_count": 8,
     "metadata": {},
     "output_type": "execute_result"
    }
   ],
   "source": [
    "# estimate number of neurons in hidden layer\n",
    "n_hidden = math.ceil(X_train.shape[0] / (2 * (X_train.shape[1] + 1)))\n",
    "n_hidden"
   ],
   "metadata": {
    "collapsed": false,
    "ExecuteTime": {
     "end_time": "2023-12-15T22:05:23.116695Z",
     "start_time": "2023-12-15T22:05:23.113485Z"
    }
   },
   "id": "3f96ab21bd9b6ed"
  },
  {
   "cell_type": "code",
   "execution_count": 9,
   "outputs": [],
   "source": [
    "# define model\n",
    "model = Sequential()\n",
    "model.add(Dense(90, activation='relu', kernel_initializer='he_normal', input_shape=(n_features,)))\n",
    "model.add(Dense(1, activation='sigmoid'))"
   ],
   "metadata": {
    "collapsed": false,
    "ExecuteTime": {
     "end_time": "2023-12-09T18:17:52.500064Z",
     "start_time": "2023-12-09T18:17:52.452014Z"
    }
   },
   "id": "485b137165c8bac9"
  },
  {
   "cell_type": "code",
   "execution_count": 10,
   "outputs": [],
   "source": [
    "# compile the model\n",
    "model.compile(optimizer='adam', loss='binary_crossentropy', metrics=['accuracy'])"
   ],
   "metadata": {
    "collapsed": false,
    "ExecuteTime": {
     "end_time": "2023-12-09T18:17:52.500865Z",
     "start_time": "2023-12-09T18:17:52.484319Z"
    }
   },
   "id": "631c38e9ef7b3658"
  },
  {
   "cell_type": "code",
   "execution_count": 11,
   "outputs": [
    {
     "name": "stdout",
     "output_type": "stream",
     "text": [
      "Epoch 1/150\n",
      "1201/1201 [==============================] - 1s 766us/step - loss: 0.9398 - accuracy: 0.6431 - val_loss: 0.6157 - val_accuracy: 0.6500\n",
      "Epoch 2/150\n",
      "1201/1201 [==============================] - 1s 719us/step - loss: 0.6247 - accuracy: 0.6803 - val_loss: 0.6377 - val_accuracy: 0.6750\n",
      "Epoch 3/150\n",
      "1201/1201 [==============================] - 1s 740us/step - loss: 0.5906 - accuracy: 0.6906 - val_loss: 0.5569 - val_accuracy: 0.6950\n",
      "Epoch 4/150\n",
      "1201/1201 [==============================] - 1s 746us/step - loss: 0.5874 - accuracy: 0.6947 - val_loss: 0.6232 - val_accuracy: 0.6800\n",
      "Epoch 5/150\n",
      "1201/1201 [==============================] - 1s 698us/step - loss: 0.5549 - accuracy: 0.7097 - val_loss: 0.6403 - val_accuracy: 0.6450\n",
      "Epoch 6/150\n",
      "1201/1201 [==============================] - 1s 688us/step - loss: 0.5414 - accuracy: 0.7143 - val_loss: 0.4998 - val_accuracy: 0.7450\n",
      "Epoch 7/150\n",
      "1201/1201 [==============================] - 1s 699us/step - loss: 0.5267 - accuracy: 0.7206 - val_loss: 0.4965 - val_accuracy: 0.7300\n",
      "Epoch 8/150\n",
      "1201/1201 [==============================] - 1s 692us/step - loss: 0.5162 - accuracy: 0.7268 - val_loss: 0.6725 - val_accuracy: 0.6500\n",
      "Epoch 9/150\n",
      "1201/1201 [==============================] - 1s 698us/step - loss: 0.5039 - accuracy: 0.7322 - val_loss: 0.5514 - val_accuracy: 0.6800\n",
      "Epoch 10/150\n",
      "1201/1201 [==============================] - 1s 713us/step - loss: 0.4924 - accuracy: 0.7385 - val_loss: 0.5816 - val_accuracy: 0.6750\n",
      "Epoch 11/150\n",
      "1201/1201 [==============================] - 1s 791us/step - loss: 0.4867 - accuracy: 0.7399 - val_loss: 0.5077 - val_accuracy: 0.7100\n",
      "Epoch 12/150\n",
      "1201/1201 [==============================] - 1s 752us/step - loss: 0.4725 - accuracy: 0.7523 - val_loss: 0.5625 - val_accuracy: 0.6950\n",
      "Epoch 13/150\n",
      "1201/1201 [==============================] - 1s 758us/step - loss: 0.4683 - accuracy: 0.7500 - val_loss: 0.4903 - val_accuracy: 0.7550\n",
      "Epoch 14/150\n",
      "1201/1201 [==============================] - 1s 657us/step - loss: 0.4590 - accuracy: 0.7562 - val_loss: 0.4894 - val_accuracy: 0.7250\n",
      "Epoch 15/150\n",
      "1201/1201 [==============================] - 1s 668us/step - loss: 0.4541 - accuracy: 0.7586 - val_loss: 0.4838 - val_accuracy: 0.7350\n",
      "Epoch 16/150\n",
      "1201/1201 [==============================] - 1s 690us/step - loss: 0.4435 - accuracy: 0.7642 - val_loss: 0.4866 - val_accuracy: 0.7450\n",
      "Epoch 17/150\n",
      "1201/1201 [==============================] - 1s 727us/step - loss: 0.4391 - accuracy: 0.7654 - val_loss: 0.4855 - val_accuracy: 0.7250\n",
      "Epoch 18/150\n",
      "1201/1201 [==============================] - 1s 684us/step - loss: 0.4328 - accuracy: 0.7707 - val_loss: 0.4855 - val_accuracy: 0.7200\n",
      "Epoch 19/150\n",
      "1201/1201 [==============================] - 1s 708us/step - loss: 0.4247 - accuracy: 0.7745 - val_loss: 0.4904 - val_accuracy: 0.7450\n",
      "Epoch 20/150\n",
      "1201/1201 [==============================] - 1s 675us/step - loss: 0.4196 - accuracy: 0.7782 - val_loss: 0.4933 - val_accuracy: 0.7250\n",
      "Epoch 21/150\n",
      "1201/1201 [==============================] - 1s 686us/step - loss: 0.4130 - accuracy: 0.7817 - val_loss: 0.4832 - val_accuracy: 0.7500\n",
      "Epoch 22/150\n",
      "1201/1201 [==============================] - 1s 651us/step - loss: 0.4088 - accuracy: 0.7821 - val_loss: 0.4646 - val_accuracy: 0.7500\n",
      "Epoch 23/150\n",
      "1201/1201 [==============================] - 1s 655us/step - loss: 0.4000 - accuracy: 0.7896 - val_loss: 0.4729 - val_accuracy: 0.7600\n",
      "Epoch 24/150\n",
      "1201/1201 [==============================] - 1s 705us/step - loss: 0.3961 - accuracy: 0.7911 - val_loss: 0.4620 - val_accuracy: 0.7750\n",
      "Epoch 25/150\n",
      "1201/1201 [==============================] - 1s 686us/step - loss: 0.3897 - accuracy: 0.7936 - val_loss: 0.4532 - val_accuracy: 0.7700\n",
      "Epoch 26/150\n",
      "1201/1201 [==============================] - 1s 710us/step - loss: 0.3850 - accuracy: 0.7950 - val_loss: 0.4942 - val_accuracy: 0.7600\n",
      "Epoch 27/150\n",
      "1201/1201 [==============================] - 1s 678us/step - loss: 0.3811 - accuracy: 0.7970 - val_loss: 0.4412 - val_accuracy: 0.7950\n",
      "Epoch 28/150\n",
      "1201/1201 [==============================] - 1s 698us/step - loss: 0.3771 - accuracy: 0.8014 - val_loss: 0.5035 - val_accuracy: 0.7800\n",
      "Epoch 29/150\n",
      "1201/1201 [==============================] - 1s 669us/step - loss: 0.3739 - accuracy: 0.8021 - val_loss: 0.4901 - val_accuracy: 0.7150\n",
      "Epoch 30/150\n",
      "1201/1201 [==============================] - 1s 675us/step - loss: 0.3702 - accuracy: 0.8050 - val_loss: 0.4837 - val_accuracy: 0.7500\n",
      "Epoch 31/150\n",
      "1201/1201 [==============================] - 1s 696us/step - loss: 0.3646 - accuracy: 0.8073 - val_loss: 0.4828 - val_accuracy: 0.7650\n",
      "Epoch 32/150\n",
      "1201/1201 [==============================] - 1s 714us/step - loss: 0.3632 - accuracy: 0.8085 - val_loss: 0.4970 - val_accuracy: 0.7600\n",
      "Epoch 33/150\n",
      "1201/1201 [==============================] - 1s 721us/step - loss: 0.3553 - accuracy: 0.8129 - val_loss: 0.4870 - val_accuracy: 0.7700\n",
      "Epoch 34/150\n",
      "1201/1201 [==============================] - 1s 679us/step - loss: 0.3535 - accuracy: 0.8140 - val_loss: 0.5070 - val_accuracy: 0.7650\n",
      "Epoch 35/150\n",
      "1201/1201 [==============================] - 1s 674us/step - loss: 0.3498 - accuracy: 0.8159 - val_loss: 0.4599 - val_accuracy: 0.7850\n",
      "Epoch 36/150\n",
      "1201/1201 [==============================] - 1s 670us/step - loss: 0.3466 - accuracy: 0.8158 - val_loss: 0.4890 - val_accuracy: 0.7550\n",
      "Epoch 37/150\n",
      "1201/1201 [==============================] - 1s 672us/step - loss: 0.3432 - accuracy: 0.8190 - val_loss: 0.4488 - val_accuracy: 0.7900\n",
      "Epoch 38/150\n",
      "1201/1201 [==============================] - 1s 679us/step - loss: 0.3395 - accuracy: 0.8230 - val_loss: 0.4738 - val_accuracy: 0.7650\n",
      "Epoch 39/150\n",
      "1201/1201 [==============================] - 1s 712us/step - loss: 0.3360 - accuracy: 0.8226 - val_loss: 0.4611 - val_accuracy: 0.7850\n",
      "Epoch 40/150\n",
      "1201/1201 [==============================] - 1s 678us/step - loss: 0.3347 - accuracy: 0.8238 - val_loss: 0.4608 - val_accuracy: 0.7900\n",
      "Epoch 41/150\n",
      "1201/1201 [==============================] - 1s 670us/step - loss: 0.3302 - accuracy: 0.8259 - val_loss: 0.4907 - val_accuracy: 0.7750\n",
      "Epoch 42/150\n",
      "1201/1201 [==============================] - 1s 665us/step - loss: 0.3295 - accuracy: 0.8262 - val_loss: 0.5152 - val_accuracy: 0.8100\n",
      "Epoch 43/150\n",
      "1201/1201 [==============================] - 1s 682us/step - loss: 0.3236 - accuracy: 0.8302 - val_loss: 0.4653 - val_accuracy: 0.7950\n",
      "Epoch 44/150\n",
      "1201/1201 [==============================] - 1s 676us/step - loss: 0.3214 - accuracy: 0.8331 - val_loss: 0.4605 - val_accuracy: 0.8000\n",
      "Epoch 45/150\n",
      "1201/1201 [==============================] - 1s 678us/step - loss: 0.3177 - accuracy: 0.8345 - val_loss: 0.4685 - val_accuracy: 0.7700\n",
      "Epoch 46/150\n",
      "1201/1201 [==============================] - 1s 692us/step - loss: 0.3135 - accuracy: 0.8352 - val_loss: 0.5080 - val_accuracy: 0.7700\n",
      "Epoch 47/150\n",
      "1201/1201 [==============================] - 1s 685us/step - loss: 0.3166 - accuracy: 0.8356 - val_loss: 0.4873 - val_accuracy: 0.7900\n",
      "Epoch 48/150\n",
      "1201/1201 [==============================] - 1s 676us/step - loss: 0.3133 - accuracy: 0.8348 - val_loss: 0.4391 - val_accuracy: 0.8250\n",
      "Epoch 49/150\n",
      "1201/1201 [==============================] - 1s 679us/step - loss: 0.3112 - accuracy: 0.8373 - val_loss: 0.4619 - val_accuracy: 0.8050\n",
      "Epoch 50/150\n",
      "1201/1201 [==============================] - 1s 653us/step - loss: 0.3067 - accuracy: 0.8403 - val_loss: 0.4733 - val_accuracy: 0.8050\n",
      "Epoch 51/150\n",
      "1201/1201 [==============================] - 1s 650us/step - loss: 0.3054 - accuracy: 0.8390 - val_loss: 0.4983 - val_accuracy: 0.8000\n",
      "Epoch 52/150\n",
      "1201/1201 [==============================] - 1s 679us/step - loss: 0.3029 - accuracy: 0.8418 - val_loss: 0.4840 - val_accuracy: 0.8100\n",
      "Epoch 53/150\n",
      "1201/1201 [==============================] - 1s 685us/step - loss: 0.3006 - accuracy: 0.8418 - val_loss: 0.4501 - val_accuracy: 0.7950\n",
      "Epoch 54/150\n",
      "1201/1201 [==============================] - 1s 695us/step - loss: 0.3021 - accuracy: 0.8441 - val_loss: 0.5029 - val_accuracy: 0.7900\n",
      "Epoch 55/150\n",
      "1201/1201 [==============================] - 1s 684us/step - loss: 0.2978 - accuracy: 0.8437 - val_loss: 0.4794 - val_accuracy: 0.8000\n",
      "Epoch 56/150\n",
      "1201/1201 [==============================] - 1s 690us/step - loss: 0.2958 - accuracy: 0.8450 - val_loss: 0.5104 - val_accuracy: 0.8000\n",
      "Epoch 57/150\n",
      "1201/1201 [==============================] - 1s 676us/step - loss: 0.2951 - accuracy: 0.8434 - val_loss: 0.5058 - val_accuracy: 0.8050\n",
      "Epoch 58/150\n",
      "1201/1201 [==============================] - 1s 677us/step - loss: 0.2914 - accuracy: 0.8473 - val_loss: 0.4167 - val_accuracy: 0.8200\n",
      "Epoch 59/150\n",
      "1201/1201 [==============================] - 1s 672us/step - loss: 0.2927 - accuracy: 0.8470 - val_loss: 0.4946 - val_accuracy: 0.8150\n",
      "Epoch 60/150\n",
      "1201/1201 [==============================] - 1s 683us/step - loss: 0.2902 - accuracy: 0.8484 - val_loss: 0.4134 - val_accuracy: 0.8350\n",
      "Epoch 61/150\n",
      "1201/1201 [==============================] - 1s 693us/step - loss: 0.2875 - accuracy: 0.8488 - val_loss: 0.5442 - val_accuracy: 0.7750\n",
      "Epoch 62/150\n",
      "1201/1201 [==============================] - 1s 678us/step - loss: 0.2848 - accuracy: 0.8517 - val_loss: 0.4851 - val_accuracy: 0.8200\n",
      "Epoch 63/150\n",
      "1201/1201 [==============================] - 1s 671us/step - loss: 0.2831 - accuracy: 0.8520 - val_loss: 0.5032 - val_accuracy: 0.8450\n",
      "Epoch 64/150\n",
      "1201/1201 [==============================] - 1s 696us/step - loss: 0.2833 - accuracy: 0.8512 - val_loss: 0.4965 - val_accuracy: 0.8350\n",
      "Epoch 65/150\n",
      "1201/1201 [==============================] - 1s 683us/step - loss: 0.2814 - accuracy: 0.8524 - val_loss: 0.4696 - val_accuracy: 0.8250\n",
      "Epoch 66/150\n",
      "1201/1201 [==============================] - 1s 671us/step - loss: 0.2802 - accuracy: 0.8523 - val_loss: 0.5206 - val_accuracy: 0.8000\n",
      "Epoch 67/150\n",
      "1201/1201 [==============================] - 1s 677us/step - loss: 0.2793 - accuracy: 0.8549 - val_loss: 0.5054 - val_accuracy: 0.8200\n",
      "Epoch 68/150\n",
      "1201/1201 [==============================] - 1s 704us/step - loss: 0.2765 - accuracy: 0.8554 - val_loss: 0.5339 - val_accuracy: 0.7950\n",
      "Epoch 69/150\n",
      "1201/1201 [==============================] - 1s 673us/step - loss: 0.2776 - accuracy: 0.8568 - val_loss: 0.4817 - val_accuracy: 0.8000\n",
      "Epoch 70/150\n",
      "1201/1201 [==============================] - 1s 662us/step - loss: 0.2723 - accuracy: 0.8575 - val_loss: 0.4891 - val_accuracy: 0.8000\n",
      "Epoch 71/150\n",
      "1201/1201 [==============================] - 1s 699us/step - loss: 0.2722 - accuracy: 0.8578 - val_loss: 0.5313 - val_accuracy: 0.8000\n",
      "Epoch 72/150\n",
      "1201/1201 [==============================] - 1s 651us/step - loss: 0.2698 - accuracy: 0.8579 - val_loss: 0.4667 - val_accuracy: 0.8250\n",
      "Epoch 73/150\n",
      "1201/1201 [==============================] - 1s 665us/step - loss: 0.2683 - accuracy: 0.8585 - val_loss: 0.5133 - val_accuracy: 0.8100\n",
      "Epoch 74/150\n",
      "1201/1201 [==============================] - 1s 710us/step - loss: 0.2706 - accuracy: 0.8565 - val_loss: 0.5143 - val_accuracy: 0.8400\n",
      "Epoch 75/150\n",
      "1201/1201 [==============================] - 1s 693us/step - loss: 0.2656 - accuracy: 0.8615 - val_loss: 0.5314 - val_accuracy: 0.8100\n",
      "Epoch 76/150\n",
      "1201/1201 [==============================] - 1s 685us/step - loss: 0.2650 - accuracy: 0.8616 - val_loss: 0.5924 - val_accuracy: 0.8000\n",
      "Epoch 77/150\n",
      "1201/1201 [==============================] - 1s 674us/step - loss: 0.2661 - accuracy: 0.8617 - val_loss: 0.5151 - val_accuracy: 0.8250\n",
      "Epoch 78/150\n",
      "1201/1201 [==============================] - 1s 677us/step - loss: 0.2623 - accuracy: 0.8636 - val_loss: 0.5474 - val_accuracy: 0.8100\n",
      "Epoch 79/150\n",
      "1201/1201 [==============================] - 1s 652us/step - loss: 0.2596 - accuracy: 0.8643 - val_loss: 0.5335 - val_accuracy: 0.8050\n",
      "Epoch 80/150\n",
      "1201/1201 [==============================] - 1s 653us/step - loss: 0.2604 - accuracy: 0.8644 - val_loss: 0.5647 - val_accuracy: 0.8000\n",
      "Epoch 81/150\n",
      "1201/1201 [==============================] - 1s 673us/step - loss: 0.2597 - accuracy: 0.8645 - val_loss: 0.5062 - val_accuracy: 0.8400\n",
      "Epoch 82/150\n",
      "1201/1201 [==============================] - 1s 673us/step - loss: 0.2583 - accuracy: 0.8657 - val_loss: 0.4839 - val_accuracy: 0.7900\n",
      "Epoch 83/150\n",
      "1201/1201 [==============================] - 1s 702us/step - loss: 0.2598 - accuracy: 0.8625 - val_loss: 0.5554 - val_accuracy: 0.8250\n",
      "Epoch 84/150\n",
      "1201/1201 [==============================] - 1s 676us/step - loss: 0.2549 - accuracy: 0.8650 - val_loss: 0.5267 - val_accuracy: 0.8250\n",
      "Epoch 85/150\n",
      "1201/1201 [==============================] - 1s 694us/step - loss: 0.2545 - accuracy: 0.8679 - val_loss: 0.5325 - val_accuracy: 0.8050\n",
      "Epoch 86/150\n",
      "1201/1201 [==============================] - 1s 682us/step - loss: 0.2565 - accuracy: 0.8658 - val_loss: 0.4818 - val_accuracy: 0.8400\n",
      "Epoch 87/150\n",
      "1201/1201 [==============================] - 1s 676us/step - loss: 0.2527 - accuracy: 0.8685 - val_loss: 0.5584 - val_accuracy: 0.8350\n",
      "Epoch 88/150\n",
      "1201/1201 [==============================] - 1s 649us/step - loss: 0.2548 - accuracy: 0.8682 - val_loss: 0.4820 - val_accuracy: 0.8350\n",
      "Epoch 89/150\n",
      "1201/1201 [==============================] - 1s 650us/step - loss: 0.2491 - accuracy: 0.8677 - val_loss: 0.5524 - val_accuracy: 0.8050\n",
      "Epoch 90/150\n",
      "1201/1201 [==============================] - 1s 699us/step - loss: 0.2524 - accuracy: 0.8660 - val_loss: 0.5553 - val_accuracy: 0.8200\n",
      "Epoch 91/150\n",
      "1201/1201 [==============================] - 1s 672us/step - loss: 0.2495 - accuracy: 0.8677 - val_loss: 0.5268 - val_accuracy: 0.8200\n",
      "Epoch 92/150\n",
      "1201/1201 [==============================] - 1s 682us/step - loss: 0.2482 - accuracy: 0.8699 - val_loss: 0.4844 - val_accuracy: 0.8250\n",
      "Epoch 93/150\n",
      "1201/1201 [==============================] - 1s 665us/step - loss: 0.2490 - accuracy: 0.8698 - val_loss: 0.4846 - val_accuracy: 0.8300\n",
      "Epoch 94/150\n",
      "1201/1201 [==============================] - 1s 671us/step - loss: 0.2452 - accuracy: 0.8701 - val_loss: 0.4957 - val_accuracy: 0.8400\n",
      "Epoch 95/150\n",
      "1201/1201 [==============================] - 1s 683us/step - loss: 0.2436 - accuracy: 0.8726 - val_loss: 0.4103 - val_accuracy: 0.8400\n",
      "Epoch 96/150\n",
      "1201/1201 [==============================] - 1s 671us/step - loss: 0.2446 - accuracy: 0.8714 - val_loss: 0.5610 - val_accuracy: 0.8150\n",
      "Epoch 97/150\n",
      "1201/1201 [==============================] - 1s 685us/step - loss: 0.2403 - accuracy: 0.8737 - val_loss: 0.5278 - val_accuracy: 0.8250\n",
      "Epoch 98/150\n",
      "1201/1201 [==============================] - 1s 719us/step - loss: 0.2416 - accuracy: 0.8743 - val_loss: 0.4469 - val_accuracy: 0.8250\n",
      "Epoch 99/150\n",
      "1201/1201 [==============================] - 1s 670us/step - loss: 0.2419 - accuracy: 0.8727 - val_loss: 0.4887 - val_accuracy: 0.8500\n",
      "Epoch 100/150\n",
      "1201/1201 [==============================] - 1s 682us/step - loss: 0.2427 - accuracy: 0.8740 - val_loss: 0.4797 - val_accuracy: 0.8150\n",
      "Epoch 101/150\n",
      "1201/1201 [==============================] - 1s 714us/step - loss: 0.2382 - accuracy: 0.8748 - val_loss: 0.5144 - val_accuracy: 0.8700\n",
      "Epoch 102/150\n",
      "1201/1201 [==============================] - 1s 690us/step - loss: 0.2429 - accuracy: 0.8715 - val_loss: 0.5050 - val_accuracy: 0.8500\n",
      "Epoch 103/150\n",
      "1201/1201 [==============================] - 1s 682us/step - loss: 0.2364 - accuracy: 0.8744 - val_loss: 0.4999 - val_accuracy: 0.8000\n",
      "Epoch 104/150\n",
      "1201/1201 [==============================] - 1s 679us/step - loss: 0.2375 - accuracy: 0.8750 - val_loss: 0.5204 - val_accuracy: 0.8350\n",
      "Epoch 105/150\n",
      "1201/1201 [==============================] - 1s 729us/step - loss: 0.2347 - accuracy: 0.8787 - val_loss: 0.4492 - val_accuracy: 0.8500\n",
      "Epoch 106/150\n",
      "1201/1201 [==============================] - 1s 676us/step - loss: 0.2385 - accuracy: 0.8749 - val_loss: 0.5396 - val_accuracy: 0.8300\n",
      "Epoch 107/150\n",
      "1201/1201 [==============================] - 1s 686us/step - loss: 0.2325 - accuracy: 0.8775 - val_loss: 0.5016 - val_accuracy: 0.8350\n",
      "Epoch 108/150\n",
      "1201/1201 [==============================] - 1s 674us/step - loss: 0.2349 - accuracy: 0.8776 - val_loss: 0.4985 - val_accuracy: 0.8050\n",
      "Epoch 109/150\n",
      "1201/1201 [==============================] - 1s 668us/step - loss: 0.2326 - accuracy: 0.8770 - val_loss: 0.4684 - val_accuracy: 0.8300\n",
      "Epoch 110/150\n",
      "1201/1201 [==============================] - 1s 696us/step - loss: 0.2327 - accuracy: 0.8764 - val_loss: 0.4948 - val_accuracy: 0.8600\n",
      "Epoch 111/150\n",
      "1201/1201 [==============================] - 1s 676us/step - loss: 0.2317 - accuracy: 0.8789 - val_loss: 0.5017 - val_accuracy: 0.8500\n",
      "Epoch 112/150\n",
      "1201/1201 [==============================] - 1s 737us/step - loss: 0.2326 - accuracy: 0.8788 - val_loss: 0.5188 - val_accuracy: 0.8100\n",
      "Epoch 113/150\n",
      "1201/1201 [==============================] - 1s 674us/step - loss: 0.2303 - accuracy: 0.8796 - val_loss: 0.5107 - val_accuracy: 0.8100\n",
      "Epoch 114/150\n",
      "1201/1201 [==============================] - 1s 684us/step - loss: 0.2299 - accuracy: 0.8787 - val_loss: 0.5335 - val_accuracy: 0.8450\n",
      "Epoch 115/150\n",
      "1201/1201 [==============================] - 1s 675us/step - loss: 0.2275 - accuracy: 0.8808 - val_loss: 0.4736 - val_accuracy: 0.8400\n",
      "Epoch 116/150\n",
      "1201/1201 [==============================] - 1s 673us/step - loss: 0.2264 - accuracy: 0.8811 - val_loss: 0.5161 - val_accuracy: 0.8300\n",
      "Epoch 117/150\n",
      "1201/1201 [==============================] - 1s 671us/step - loss: 0.2280 - accuracy: 0.8797 - val_loss: 0.5306 - val_accuracy: 0.8300\n",
      "Epoch 118/150\n",
      "1201/1201 [==============================] - 1s 678us/step - loss: 0.2219 - accuracy: 0.8838 - val_loss: 0.5016 - val_accuracy: 0.8200\n",
      "Epoch 119/150\n",
      "1201/1201 [==============================] - 1s 695us/step - loss: 0.2280 - accuracy: 0.8810 - val_loss: 0.4696 - val_accuracy: 0.8500\n",
      "Epoch 120/150\n",
      "1201/1201 [==============================] - 1s 703us/step - loss: 0.2217 - accuracy: 0.8821 - val_loss: 0.4571 - val_accuracy: 0.8350\n",
      "Epoch 121/150\n",
      "1201/1201 [==============================] - 1s 656us/step - loss: 0.2247 - accuracy: 0.8817 - val_loss: 0.5364 - val_accuracy: 0.8500\n",
      "Epoch 122/150\n",
      "1201/1201 [==============================] - 1s 656us/step - loss: 0.2240 - accuracy: 0.8824 - val_loss: 0.4393 - val_accuracy: 0.8400\n",
      "Epoch 123/150\n",
      "1201/1201 [==============================] - 1s 651us/step - loss: 0.2231 - accuracy: 0.8818 - val_loss: 0.4973 - val_accuracy: 0.8350\n",
      "Epoch 124/150\n",
      "1201/1201 [==============================] - 1s 674us/step - loss: 0.2208 - accuracy: 0.8839 - val_loss: 0.5361 - val_accuracy: 0.7800\n",
      "Epoch 125/150\n",
      "1201/1201 [==============================] - 1s 674us/step - loss: 0.2217 - accuracy: 0.8834 - val_loss: 0.5516 - val_accuracy: 0.8350\n",
      "Epoch 126/150\n",
      "1201/1201 [==============================] - 1s 678us/step - loss: 0.2212 - accuracy: 0.8834 - val_loss: 0.5052 - val_accuracy: 0.8200\n",
      "Epoch 127/150\n",
      "1201/1201 [==============================] - 1s 704us/step - loss: 0.2209 - accuracy: 0.8846 - val_loss: 0.5436 - val_accuracy: 0.8400\n",
      "Epoch 128/150\n",
      "1201/1201 [==============================] - 1s 684us/step - loss: 0.2199 - accuracy: 0.8840 - val_loss: 0.4976 - val_accuracy: 0.8350\n",
      "Epoch 129/150\n",
      "1201/1201 [==============================] - 1s 684us/step - loss: 0.2151 - accuracy: 0.8879 - val_loss: 0.4945 - val_accuracy: 0.8400\n",
      "Epoch 130/150\n",
      "1201/1201 [==============================] - 1s 713us/step - loss: 0.2180 - accuracy: 0.8838 - val_loss: 0.5672 - val_accuracy: 0.8200\n",
      "Epoch 131/150\n",
      "1201/1201 [==============================] - 1s 691us/step - loss: 0.2163 - accuracy: 0.8859 - val_loss: 0.5028 - val_accuracy: 0.8350\n",
      "Epoch 132/150\n",
      "1201/1201 [==============================] - 1s 667us/step - loss: 0.2181 - accuracy: 0.8854 - val_loss: 0.4566 - val_accuracy: 0.8550\n",
      "Epoch 133/150\n",
      "1201/1201 [==============================] - 1s 678us/step - loss: 0.2165 - accuracy: 0.8853 - val_loss: 0.4957 - val_accuracy: 0.8200\n",
      "Epoch 134/150\n",
      "1201/1201 [==============================] - 1s 717us/step - loss: 0.2142 - accuracy: 0.8862 - val_loss: 0.4714 - val_accuracy: 0.8150\n",
      "Epoch 135/150\n",
      "1201/1201 [==============================] - 1s 680us/step - loss: 0.2149 - accuracy: 0.8873 - val_loss: 0.4872 - val_accuracy: 0.8350\n",
      "Epoch 136/150\n",
      "1201/1201 [==============================] - 1s 680us/step - loss: 0.2150 - accuracy: 0.8864 - val_loss: 0.4916 - val_accuracy: 0.8400\n",
      "Epoch 137/150\n",
      "1201/1201 [==============================] - 1s 654us/step - loss: 0.2124 - accuracy: 0.8873 - val_loss: 0.4907 - val_accuracy: 0.8250\n",
      "Epoch 138/150\n",
      "1201/1201 [==============================] - 1s 693us/step - loss: 0.2147 - accuracy: 0.8860 - val_loss: 0.5398 - val_accuracy: 0.8300\n",
      "Epoch 139/150\n",
      "1201/1201 [==============================] - 1s 684us/step - loss: 0.2147 - accuracy: 0.8850 - val_loss: 0.4852 - val_accuracy: 0.8200\n",
      "Epoch 140/150\n",
      "1201/1201 [==============================] - 1s 662us/step - loss: 0.2140 - accuracy: 0.8883 - val_loss: 0.5607 - val_accuracy: 0.8450\n",
      "Epoch 141/150\n",
      "1201/1201 [==============================] - 1s 699us/step - loss: 0.2107 - accuracy: 0.8869 - val_loss: 0.4953 - val_accuracy: 0.8250\n",
      "Epoch 142/150\n",
      "1201/1201 [==============================] - 1s 701us/step - loss: 0.2099 - accuracy: 0.8876 - val_loss: 0.5206 - val_accuracy: 0.8300\n",
      "Epoch 143/150\n",
      "1201/1201 [==============================] - 1s 683us/step - loss: 0.2112 - accuracy: 0.8895 - val_loss: 0.5592 - val_accuracy: 0.8100\n",
      "Epoch 144/150\n",
      "1201/1201 [==============================] - 1s 719us/step - loss: 0.2096 - accuracy: 0.8888 - val_loss: 0.5907 - val_accuracy: 0.8300\n",
      "Epoch 145/150\n",
      "1201/1201 [==============================] - 1s 676us/step - loss: 0.2118 - accuracy: 0.8895 - val_loss: 0.5210 - val_accuracy: 0.8350\n",
      "Epoch 146/150\n",
      "1201/1201 [==============================] - 1s 674us/step - loss: 0.2076 - accuracy: 0.8893 - val_loss: 0.4685 - val_accuracy: 0.8350\n",
      "Epoch 147/150\n",
      "1201/1201 [==============================] - 1s 675us/step - loss: 0.2099 - accuracy: 0.8874 - val_loss: 0.4880 - val_accuracy: 0.8450\n",
      "Epoch 148/150\n",
      "1201/1201 [==============================] - 1s 672us/step - loss: 0.2047 - accuracy: 0.8923 - val_loss: 0.4759 - val_accuracy: 0.8300\n",
      "Epoch 149/150\n",
      "1201/1201 [==============================] - 1s 705us/step - loss: 0.2072 - accuracy: 0.8920 - val_loss: 0.4653 - val_accuracy: 0.8350\n",
      "Epoch 150/150\n",
      "1201/1201 [==============================] - 1s 677us/step - loss: 0.2060 - accuracy: 0.8917 - val_loss: 0.4410 - val_accuracy: 0.8400\n"
     ]
    }
   ],
   "source": [
    "# fit the model\n",
    "# history = model.fit(X_train, y_train, epochs=150, batch_size=32, verbose=0, validation_data=(x_val, y_val))\n",
    "history = model.fit(X_train, y_train, epochs=150, batch_size=32, validation_data=(x_val, y_val))"
   ],
   "metadata": {
    "collapsed": false,
    "ExecuteTime": {
     "end_time": "2023-12-09T18:19:56.520616Z",
     "start_time": "2023-12-09T18:17:52.491377Z"
    }
   },
   "id": "364a6ab9ba25ea0c"
  },
  {
   "cell_type": "code",
   "execution_count": 12,
   "outputs": [],
   "source": [
    "# record of the loss values and metric values during training\n",
    "history.history;"
   ],
   "metadata": {
    "collapsed": false,
    "ExecuteTime": {
     "end_time": "2023-12-09T18:19:56.522743Z",
     "start_time": "2023-12-09T18:19:56.519520Z"
    }
   },
   "id": "8b6d87abac97ea6d"
  },
  {
   "cell_type": "code",
   "execution_count": 13,
   "outputs": [
    {
     "name": "stdout",
     "output_type": "stream",
     "text": [
      "Test Accuracy: 0.837\n"
     ]
    }
   ],
   "source": [
    "# evaluate the model\n",
    "loss, acc = model.evaluate(X_test, y_test, verbose=0)\n",
    "print('Test Accuracy: %.3f' % acc)"
   ],
   "metadata": {
    "collapsed": false,
    "ExecuteTime": {
     "end_time": "2023-12-09T18:19:56.671972Z",
     "start_time": "2023-12-09T18:19:56.522980Z"
    }
   },
   "id": "1a424bf84129499c"
  },
  {
   "cell_type": "code",
   "execution_count": 14,
   "outputs": [
    {
     "name": "stdout",
     "output_type": "stream",
     "text": [
      "Evaluate on test data\n",
      "302/302 [==============================] - 0s 437us/step - loss: 0.4234 - accuracy: 0.8367\n",
      "test loss, test acc: [0.42344987392425537, 0.8367177844047546]\n",
      "Generate predictions for 3 samples\n",
      "1/1 [==============================] - 0s 102ms/step\n",
      "predictions shape: (3, 1)\n"
     ]
    },
    {
     "data": {
      "text/plain": "array([[0.007],\n       [0.995],\n       [0.   ]], dtype=float32)"
     },
     "execution_count": 14,
     "metadata": {},
     "output_type": "execute_result"
    }
   ],
   "source": [
    "# Evaluate the model on the test data using `evaluate`\n",
    "print(\"Evaluate on test data\")\n",
    "results = model.evaluate(X_test, y_test, batch_size=32)\n",
    "print(\"test loss, test acc:\", results)\n",
    "\n",
    "# Generate predictions (probabilities -- the output of the last layer)\n",
    "# on new data using `predict`\n",
    "print(\"Generate predictions for 3 samples\")\n",
    "predictions = model.predict(X_test[:3])\n",
    "print(\"predictions shape:\", predictions.shape)\n",
    "predictions.round(decimals=3)"
   ],
   "metadata": {
    "collapsed": false,
    "ExecuteTime": {
     "end_time": "2023-12-09T18:19:56.971779Z",
     "start_time": "2023-12-09T18:19:56.673502Z"
    }
   },
   "id": "a7e5c7f7ac04f68f"
  },
  {
   "cell_type": "code",
   "execution_count": 14,
   "outputs": [],
   "source": [],
   "metadata": {
    "collapsed": false,
    "ExecuteTime": {
     "end_time": "2023-12-09T18:19:56.975960Z",
     "start_time": "2023-12-09T18:19:56.970650Z"
    }
   },
   "id": "7a7c2ab8b951189c"
  }
 ],
 "metadata": {
  "kernelspec": {
   "display_name": "Python 3",
   "language": "python",
   "name": "python3"
  },
  "language_info": {
   "codemirror_mode": {
    "name": "ipython",
    "version": 2
   },
   "file_extension": ".py",
   "mimetype": "text/x-python",
   "name": "python",
   "nbconvert_exporter": "python",
   "pygments_lexer": "ipython2",
   "version": "2.7.6"
  }
 },
 "nbformat": 4,
 "nbformat_minor": 5
}
